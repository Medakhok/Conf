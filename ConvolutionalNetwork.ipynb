{
 "cells": [
  {
   "cell_type": "code",
   "execution_count": 1,
   "id": "951b674c",
   "metadata": {},
   "outputs": [],
   "source": [
    "import pandas as pd\n",
    "import numpy as np\n",
    "import matplotlib.pyplot as plt\n",
    "from sklearn import preprocessing\n",
    "import tensorflow as tf\n",
    "from tensorflow import keras\n",
    "from sklearn.preprocessing import LabelEncoder\n",
    "from sklearn.model_selection import train_test_split\n",
    "from tensorflow.keras.models import Sequential\n",
    "from tensorflow.keras.layers import Dense, Conv2D, Flatten\n",
    "from tensorflow.keras import utils\n",
    "from sklearn.feature_extraction.text import CountVectorizer\n",
    "from sklearn.feature_extraction.text import TfidfTransformer"
   ]
  },
  {
   "cell_type": "code",
   "execution_count": 2,
   "id": "52b99745",
   "metadata": {},
   "outputs": [],
   "source": [
    "def PrepForNetwork():\n",
    "    global Y\n",
    "    global X\n",
    "    Y = pd.read_csv('YTrafic.csv')\n",
    "    X = pd.read_csv('XTrafic.csv')\n",
    "    Y = Y.drop(['Unnamed: 0'], axis=1)\n",
    "    X = X.drop(['Unnamed: 0'], axis=1)\n",
    "    \n",
    "    while True:\n",
    "        Div = input(f'Введите целочисленный делитель числа {X.shape[1]}: ' )\n",
    "        Rem = int(X.shape[1]) % int(Div)\n",
    "        global in1, in2\n",
    "        in1 = X.shape[1] // int(Div)\n",
    "        in2 = int(Div)\n",
    "        if Rem == 0:\n",
    "            X = X.iloc[:].values.reshape(len(X), in1, in2, 1)\n",
    "            break\n",
    "        else:\n",
    "            print('Не верный ввод числа, повторите попытку!')\n",
    "    print(X.shape)\n",
    "    \n",
    "    encoder = LabelEncoder()\n",
    "    encoder.fit(Y)\n",
    "    encoded_y = encoder.transform(Y)\n",
    "    Y = keras.utils.to_categorical(encoded_y)\n",
    "    print(Y.shape)\n",
    "    \n",
    "    global X_test, Y_test\n",
    "    X_test = X[len(X)-1]\n",
    "    X_test = np.reshape(X_test, (1, in1, in2, 1))\n",
    "    \n",
    "    Y_test = Y[len(Y)-1]\n",
    "    Y_test = np.reshape(Y_test, (1,2))\n",
    "    \n",
    "    X = np.delete(X,(len(X)-1), axis = 0)\n",
    "    Y = np.delete(Y,(len(X)-1), axis = 0)"
   ]
  },
  {
   "cell_type": "code",
   "execution_count": 3,
   "id": "0cf39a76",
   "metadata": {},
   "outputs": [],
   "source": [
    "def ConvolutionalNetwork():\n",
    "    model = Sequential()\n",
    "    model.add(Conv2D(32, kernel_size=2, activation='relu', input_shape=(in1, in2, 1)))\n",
    "    model.add(Conv2D(64, kernel_size=2, activation='relu'))\n",
    "    model.add(Conv2D(128, kernel_size=3, activation='relu', padding = 'same'))\n",
    "    model.add(Conv2D(256, kernel_size=3, activation='relu', padding = 'same'))\n",
    "    model.add(Conv2D(512, kernel_size=3, activation='relu', padding = 'same'))\n",
    "    model.add(Conv2D(1024, kernel_size=3, activation='softmax', padding = 'same'))\n",
    "    model.add(Flatten())\n",
    "    model.add(Dense(2, activation='softmax'))\n",
    "    model.compile(optimizer='adam', loss='categorical_crossentropy', metrics=[keras.metrics.PrecisionAtRecall(0.5)])\n",
    "    hist = model.fit(X, Y, validation_data=(X_test, Y_test), epochs=17)"
   ]
  },
  {
   "cell_type": "code",
   "execution_count": 4,
   "id": "c052237b",
   "metadata": {},
   "outputs": [],
   "source": [
    "def main():\n",
    "    PrepForNetwork()\n",
    "    ConvolutionalNetwork()"
   ]
  },
  {
   "cell_type": "code",
   "execution_count": 5,
   "id": "02157acd",
   "metadata": {},
   "outputs": [
    {
     "name": "stdout",
     "output_type": "stream",
     "text": [
      "Введите целочисленный делитель числа 21: 7\n",
      "(52, 3, 7, 1)\n",
      "(52, 2)\n"
     ]
    },
    {
     "name": "stderr",
     "output_type": "stream",
     "text": [
      "C:\\Users\\meden\\anaconda3\\lib\\site-packages\\sklearn\\utils\\validation.py:63: DataConversionWarning: A column-vector y was passed when a 1d array was expected. Please change the shape of y to (n_samples, ), for example using ravel().\n",
      "  return f(*args, **kwargs)\n"
     ]
    },
    {
     "name": "stdout",
     "output_type": "stream",
     "text": [
      "Epoch 1/17\n",
      "2/2 [==============================] - 1s 457ms/step - loss: 0.6922 - precision_at_recall: 0.5542 - val_loss: 0.7043 - val_precision_at_recall: 0.5000\n",
      "Epoch 2/17\n",
      "2/2 [==============================] - 0s 202ms/step - loss: 0.6894 - precision_at_recall: 0.6471 - val_loss: 0.7158 - val_precision_at_recall: 0.5000\n",
      "Epoch 3/17\n",
      "2/2 [==============================] - 0s 194ms/step - loss: 0.6861 - precision_at_recall: 0.6471 - val_loss: 0.7274 - val_precision_at_recall: 0.5000\n",
      "Epoch 4/17\n",
      "2/2 [==============================] - 0s 204ms/step - loss: 0.6835 - precision_at_recall: 0.6471 - val_loss: 0.7391 - val_precision_at_recall: 0.5000\n",
      "Epoch 5/17\n",
      "2/2 [==============================] - 0s 201ms/step - loss: 0.6805 - precision_at_recall: 0.6471 - val_loss: 0.7507 - val_precision_at_recall: 0.5000\n",
      "Epoch 6/17\n",
      "2/2 [==============================] - 0s 205ms/step - loss: 0.6780 - precision_at_recall: 0.6471 - val_loss: 0.7623 - val_precision_at_recall: 0.5000\n",
      "Epoch 7/17\n",
      "2/2 [==============================] - 0s 198ms/step - loss: 0.6753 - precision_at_recall: 0.6471 - val_loss: 0.7737 - val_precision_at_recall: 0.5000\n",
      "Epoch 8/17\n",
      "2/2 [==============================] - 0s 205ms/step - loss: 0.6732 - precision_at_recall: 0.6471 - val_loss: 0.7851 - val_precision_at_recall: 0.5000\n",
      "Epoch 9/17\n",
      "2/2 [==============================] - 0s 208ms/step - loss: 0.6712 - precision_at_recall: 0.6471 - val_loss: 0.7962 - val_precision_at_recall: 0.5000\n",
      "Epoch 10/17\n",
      "2/2 [==============================] - 0s 202ms/step - loss: 0.6688 - precision_at_recall: 0.6471 - val_loss: 0.8068 - val_precision_at_recall: 0.5000\n",
      "Epoch 11/17\n",
      "2/2 [==============================] - 0s 202ms/step - loss: 0.6666 - precision_at_recall: 0.6471 - val_loss: 0.8174 - val_precision_at_recall: 0.5000\n",
      "Epoch 12/17\n",
      "2/2 [==============================] - 0s 201ms/step - loss: 0.6652 - precision_at_recall: 0.6471 - val_loss: 0.8284 - val_precision_at_recall: 0.5000\n",
      "Epoch 13/17\n",
      "2/2 [==============================] - 0s 192ms/step - loss: 0.6635 - precision_at_recall: 0.6471 - val_loss: 0.8396 - val_precision_at_recall: 0.5000\n",
      "Epoch 14/17\n",
      "2/2 [==============================] - 0s 216ms/step - loss: 0.6616 - precision_at_recall: 0.6471 - val_loss: 0.8508 - val_precision_at_recall: 0.5000\n",
      "Epoch 15/17\n",
      "2/2 [==============================] - 0s 204ms/step - loss: 0.6604 - precision_at_recall: 0.6471 - val_loss: 0.8630 - val_precision_at_recall: 0.5000\n",
      "Epoch 16/17\n",
      "2/2 [==============================] - 0s 204ms/step - loss: 0.6585 - precision_at_recall: 0.6471 - val_loss: 0.8761 - val_precision_at_recall: 0.5000\n",
      "Epoch 17/17\n",
      "2/2 [==============================] - 0s 201ms/step - loss: 0.6573 - precision_at_recall: 0.6471 - val_loss: 0.8931 - val_precision_at_recall: 0.5000\n"
     ]
    }
   ],
   "source": [
    "main()"
   ]
  },
  {
   "cell_type": "code",
   "execution_count": null,
   "id": "b0f08f8a",
   "metadata": {},
   "outputs": [],
   "source": []
  }
 ],
 "metadata": {
  "kernelspec": {
   "display_name": "Python 3",
   "language": "python",
   "name": "python3"
  },
  "language_info": {
   "codemirror_mode": {
    "name": "ipython",
    "version": 3
   },
   "file_extension": ".py",
   "mimetype": "text/x-python",
   "name": "python",
   "nbconvert_exporter": "python",
   "pygments_lexer": "ipython3",
   "version": "3.8.8"
  }
 },
 "nbformat": 4,
 "nbformat_minor": 5
}
