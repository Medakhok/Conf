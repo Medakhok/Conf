{
 "cells": [
  {
   "cell_type": "code",
   "execution_count": 1,
   "id": "c4f6713b",
   "metadata": {},
   "outputs": [],
   "source": [
    "import pyaudio as pa\n",
    "import wave as wv"
   ]
  },
  {
   "cell_type": "code",
   "execution_count": 2,
   "id": "1261cab9",
   "metadata": {},
   "outputs": [],
   "source": [
    "import speech_recognition as sp"
   ]
  },
  {
   "cell_type": "code",
   "execution_count": 3,
   "id": "02256701",
   "metadata": {},
   "outputs": [],
   "source": [
    "import pandas as pd\n",
    "import numpy as np\n",
    "import spacy\n",
    "import string\n",
    "import nltk\n",
    "import re\n",
    "from spacy.lang.ru.stop_words import STOP_WORDS\n",
    "from sklearn.feature_extraction.text import CountVectorizer\n",
    "from sklearn.feature_extraction.text import TfidfTransformer"
   ]
  },
  {
   "cell_type": "code",
   "execution_count": 4,
   "id": "2f12ae1c",
   "metadata": {},
   "outputs": [],
   "source": [
    "import matplotlib.pyplot as plt\n",
    "from sklearn import preprocessing\n",
    "import tensorflow as tf\n",
    "from tensorflow import keras\n",
    "from sklearn.preprocessing import LabelEncoder\n",
    "from sklearn.model_selection import train_test_split\n",
    "from tensorflow.keras.models import Sequential\n",
    "from tensorflow.keras.layers import Dense, Conv2D, Flatten\n",
    "from tensorflow.keras import utils"
   ]
  },
  {
   "cell_type": "code",
   "execution_count": 5,
   "id": "51d84a02",
   "metadata": {},
   "outputs": [],
   "source": [
    "def Record_Voice():\n",
    "    global record\n",
    "    record = pa.PyAudio() # Создаем объект класса PyAudio пакета pyaudio\n",
    "    \n",
    "    global stream\n",
    "    stream = record.open(\n",
    "        format = FORMAT,\n",
    "        channels = CHANNELS,\n",
    "        rate = RATE,\n",
    "        input = True, # Открываем поток\n",
    "        frames_per_buffer = CHUNK\n",
    "    )\n",
    "    \n",
    "    print('Идет запись голоса...')\n",
    "    \n",
    "    global frames\n",
    "    frames = []\n",
    "    \n",
    "    for i in range (0, int(RATE / CHUNK * RECORD_SECOND)):\n",
    "        data = stream.read(CHUNK) # Считываем образцы из потока\n",
    "        frames.append(data)\n",
    "        \n",
    "    print('Запись завершена!')"
   ]
  },
  {
   "cell_type": "code",
   "execution_count": 6,
   "id": "8aee4480",
   "metadata": {},
   "outputs": [],
   "source": [
    "def Completed_Recording():\n",
    "    stream.stop_stream()\n",
    "    stream.close()\n",
    "    record.terminate()"
   ]
  },
  {
   "cell_type": "code",
   "execution_count": 7,
   "id": "26168897",
   "metadata": {},
   "outputs": [],
   "source": [
    "def Save_Record():\n",
    "    wf = wv.open(OUTPUT_FILENAME, 'wb') # Открываем файл на запись в двоичном режиме\n",
    "    wf.setnchannels(CHANNELS)\n",
    "    wf.setsampwidth(record.get_sample_size(FORMAT)) # Возвращает размер в Байтах для указанного значения формата образца\n",
    "    wf.setframerate(RATE)\n",
    "    wf.writeframes(b''.join(frames))\n",
    "    wf.close()"
   ]
  },
  {
   "cell_type": "code",
   "execution_count": 8,
   "id": "080a97f4",
   "metadata": {},
   "outputs": [],
   "source": [
    "def AudioRecording():\n",
    "    global CHUNK\n",
    "    CHUNK = 1024 # Байты\n",
    "    \n",
    "    global FORMAT\n",
    "    FORMAT = pa.paInt16 # 16-и битный формат\n",
    "    \n",
    "    global CHANNELS\n",
    "    CHANNELS = 2 # Индекс микрофона (устройства ввода информации)\n",
    "    \n",
    "    global RATE\n",
    "    RATE = 44100 # Частота записи (кадров)\n",
    "    \n",
    "    global RECORD_SECOND\n",
    "    RECORD_SECOND = 5 # Длительность записи звука в секундах\n",
    "    \n",
    "    global OUTPUT_FILENAME\n",
    "    OUTPUT_FILENAME = 'voice.wav' # Название выходного файла в формате .wav\n",
    "    \n",
    "    Record_Voice()\n",
    "    Completed_Recording()\n",
    "    Save_Record()"
   ]
  },
  {
   "cell_type": "code",
   "execution_count": 9,
   "id": "56bbe8c5",
   "metadata": {},
   "outputs": [],
   "source": [
    "def Text_Conv():\n",
    "    harvard = sp.AudioFile('voice.wav')\n",
    "    with harvard as source:\n",
    "        audio = r.record(source)\n",
    "        \n",
    "    global Line\n",
    "    Line = r.recognize_google(audio, language=\"ru-RU\")"
   ]
  },
  {
   "cell_type": "code",
   "execution_count": 10,
   "id": "4243f0d1",
   "metadata": {},
   "outputs": [],
   "source": [
    "def Text_Write():\n",
    "    with open(\"Text.txt\", \"w\") as file:\n",
    "        file.write(Line)"
   ]
  },
  {
   "cell_type": "code",
   "execution_count": 11,
   "id": "c0347586",
   "metadata": {},
   "outputs": [],
   "source": [
    "def ConversionToText():\n",
    "    global r\n",
    "    r = sp.Recognizer()\n",
    "    \n",
    "    Text_Conv()\n",
    "    Text_Write()"
   ]
  },
  {
   "cell_type": "code",
   "execution_count": 12,
   "id": "5706a0d2",
   "metadata": {},
   "outputs": [],
   "source": [
    "def List_creating():\n",
    "    with open(\"Text.txt\", \"r\") as File:\n",
    "        for Line in File:\n",
    "            Texts.append(Line)"
   ]
  },
  {
   "cell_type": "code",
   "execution_count": 13,
   "id": "6064a6f5",
   "metadata": {},
   "outputs": [],
   "source": [
    "def Word_List_creating():\n",
    "    global Words\n",
    "    Words = []\n",
    "    with open(\"Slov.txt\", \"r\", encoding='UTF-8') as File:\n",
    "        for Line in File:\n",
    "            Words.append(Line)\n",
    "    print(Words)"
   ]
  },
  {
   "cell_type": "code",
   "execution_count": 14,
   "id": "c2ffb0ae",
   "metadata": {},
   "outputs": [],
   "source": [
    "def Text_Process():\n",
    "    global Data\n",
    "    Data = []\n",
    "    for text in Texts:\n",
    "        #Блок обработки текста к поиску\n",
    "        text = text.lower() #Переводим в нижний регистр буквы\n",
    "        text = re.sub(\"[«»]\", '', text) #Удаление специфичных символов созданного трафика\n",
    "        text = re.sub(r'\\d+', '', text) #Убираем цифры\n",
    "\n",
    "        translator = str.maketrans('', '', string.punctuation) #Заделка под замену символов\n",
    "        text = text.translate(translator) #Убираем символы\n",
    "        text = \" \".join(text.split()) #Убираем несколько идущих подряд пробелов\n",
    "        text = nltk.word_tokenize(text,language = \"russian\") #Токенизация текста\n",
    "        text = [token for token in text if token not in STOP_WORDS] #Убираем стоп-слова\n",
    "        text = \" \".join(lemmatizer.lemmatize(token) for token in text) #Лемитизация\n",
    "        Data.append(text)"
   ]
  },
  {
   "cell_type": "code",
   "execution_count": 15,
   "id": "58ac368d",
   "metadata": {},
   "outputs": [],
   "source": [
    "def Recording_DataFrame():\n",
    "    global PrepData\n",
    "    Train = pd.read_csv('Train.csv')\n",
    "    PrepData = pd.DataFrame({'Тексты':pd.Series(Data), 'Мошеник':pd.Series(Answer)})\n",
    "    PrepData = pd.concat([Train, PrepData])"
   ]
  },
  {
   "cell_type": "code",
   "execution_count": 16,
   "id": "a216d957",
   "metadata": {},
   "outputs": [],
   "source": [
    "def TF_IDF_Cacl():\n",
    "    global Data_Texts\n",
    "    tfIdfTransformer = TfidfTransformer(use_idf=True)\n",
    "    countVectorizer = CountVectorizer()\n",
    "    DataVectorized = countVectorizer.fit_transform(PrepData['Тексты'])\n",
    "    DataVectorized = tfIdfTransformer.fit_transform(DataVectorized)\n",
    "    Data_Texts = pd.DataFrame(DataVectorized.todense(), columns=countVectorizer.get_feature_names())\n",
    "    #Data_Texts = pd.DataFrame(DataVectorized.todense(), columns=countVectorizer.get_feature_names_out())\n",
    "    \n",
    "    for Word in Data_Texts:\n",
    "        if any(element in Word + '\\n' for element in Words) | any(element in Word for element in Words):\n",
    "            continue\n",
    "        else:\n",
    "            Data_Texts = Data_Texts.drop([Word], axis='columns') "
   ]
  },
  {
   "cell_type": "code",
   "execution_count": 17,
   "id": "8847ffc5",
   "metadata": {},
   "outputs": [],
   "source": [
    "def SaveTrafics():\n",
    "    Data_Texts.to_csv('XTrafic.csv')\n",
    "    PrepData['Мошеник'].to_csv('YTrafic.csv')"
   ]
  },
  {
   "cell_type": "code",
   "execution_count": 18,
   "id": "9e7da003",
   "metadata": {},
   "outputs": [],
   "source": [
    "def TextProcessing():\n",
    "    global Texts\n",
    "    Texts = []\n",
    "    \n",
    "    global lemmatizer\n",
    "    lemmatizer = nltk.stem.WordNetLemmatizer()\n",
    "    \n",
    "    global Answer\n",
    "    Answer = input('Является ли текст мошенническим (Да или Нет): ')\n",
    "    \n",
    "    List_creating()\n",
    "    Word_List_creating()\n",
    "    Text_Process()\n",
    "    Recording_DataFrame()\n",
    "    TF_IDF_Cacl()\n",
    "    SaveTrafics()"
   ]
  },
  {
   "cell_type": "code",
   "execution_count": 19,
   "id": "95917d29",
   "metadata": {},
   "outputs": [
    {
     "name": "stdout",
     "output_type": "stream",
     "text": [
      "Идет запись голоса...\n",
      "Запись завершена!\n"
     ]
    }
   ],
   "source": [
    "AudioRecording()"
   ]
  },
  {
   "cell_type": "code",
   "execution_count": 20,
   "id": "f6721876",
   "metadata": {},
   "outputs": [
    {
     "name": "stdout",
     "output_type": "stream",
     "text": [
      "result2:\n",
      "{   'alternative': [   {   'confidence': 0.88905942,\n",
      "                           'transcript': 'так просто говорим что-нибудь сюда и '\n",
      "                                         'может что-нибудь'},\n",
      "                       {   'transcript': 'так просто говорил что-нибудь сюда и '\n",
      "                                         'может что-нибудь'},\n",
      "                       {   'transcript': 'так просто говорим что-нибудь сюда и '\n",
      "                                         'может что'}],\n",
      "    'final': True}\n"
     ]
    }
   ],
   "source": [
    "ConversionToText()"
   ]
  },
  {
   "cell_type": "code",
   "execution_count": 21,
   "id": "3acd248e",
   "metadata": {},
   "outputs": [
    {
     "name": "stdout",
     "output_type": "stream",
     "text": [
      "Является ли текст мошенническим (Да или Нет): Нет\n",
      "['банк\\n', 'финансы\\n', 'технический\\n', 'доллары\\n', 'проверка\\n', 'заявка\\n', 'подтверждаете\\n', 'паспортные\\n', 'доллары\\n', 'подозревать\\n', 'банкпартнёры\\n', 'услуги\\n', 'пользовались\\n', 'заявка\\n', 'продиктовать\\n', 'цифровой\\n', 'приз\\n', 'привяжем\\n', 'qrбанк\\n', 'процентные\\n', 'украли\\n', 'помочь\\n', 'процентные\\n', 'перевод\\n', 'правообладателя']\n"
     ]
    }
   ],
   "source": [
    "TextProcessing()"
   ]
  },
  {
   "cell_type": "code",
   "execution_count": null,
   "id": "32479a02",
   "metadata": {},
   "outputs": [],
   "source": []
  }
 ],
 "metadata": {
  "kernelspec": {
   "display_name": "Python 3",
   "language": "python",
   "name": "python3"
  },
  "language_info": {
   "codemirror_mode": {
    "name": "ipython",
    "version": 3
   },
   "file_extension": ".py",
   "mimetype": "text/x-python",
   "name": "python",
   "nbconvert_exporter": "python",
   "pygments_lexer": "ipython3",
   "version": "3.8.8"
  }
 },
 "nbformat": 4,
 "nbformat_minor": 5
}
